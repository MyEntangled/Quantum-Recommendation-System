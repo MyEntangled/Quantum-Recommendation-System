{
 "cells": [
  {
   "cell_type": "code",
   "execution_count": 2,
   "metadata": {},
   "outputs": [],
   "source": [
    "import numpy as np\n",
    "import qiskit\n",
    "from qiskit import ClassicalRegister,QuantumRegister,QuantumCircuit,execute"
   ]
  },
  {
   "cell_type": "code",
   "execution_count": 3,
   "metadata": {},
   "outputs": [],
   "source": [
    "def amplitude_encoding(data_vec):\n",
    "    desired_vector = data_vec[:].astype(np.float64)\n",
    "    desired_vector = desired_vector / np.linalg.norm(desired_vector)\n",
    "    \n",
    "    #encoding_circ = QuantumCircuit(np.log2(len(data_vec)), name='amplitude_encoder') \n",
    "    #encoding_circ.initialize(desired_vector, encoding_circ.qregs)\n",
    "    \n",
    "    initializer = qiskit.extensions.Initialize(desired_vector)\n",
    "    encoding_circ = initializer.gates_to_uncompute().decompose().decompose().inverse().to_gate(label='amplitude_encoder')\n",
    "    return encoding_circ"
   ]
  },
  {
   "cell_type": "code",
   "execution_count": 89,
   "metadata": {},
   "outputs": [],
   "source": [
    "def SVE_helper(A):\n",
    "    m,n = A.shape\n",
    "\n",
    "    A_tilda = np.array([np.linalg.norm(row) for row in A]) # store norm of every row\n",
    "    norm_A = np.linalg.norm(A)\n",
    "    \n",
    "    P = np.zeros((m*n,m))\n",
    "    for i in range(m):\n",
    "        unit_vec = np.zeros(m)\n",
    "        unit_vec[i] = 1\n",
    "        P[:,i] = np.kron(unit_vec , A[i] / A_tilda[i] )\n",
    "#         print(unit_vec, A[i] / A_tilda[i])\n",
    "#         print(P)\n",
    "\n",
    "    Q = np.zeros((m*n,n))\n",
    "    for i in range(n):\n",
    "        unit_vec = np.zeros(n)\n",
    "        unit_vec[i] = 1\n",
    "        Q[:,i] = np.kron(A_tilda / norm_A , unit_vec)\n",
    "#         print(A_tilda / norm_A, unit_vec)\n",
    "#         print(Q)\n",
    "        \n",
    "#    print(P.transpose() @ P, Q.transpose() @ Q)  \n",
    "    \n",
    "    # Define reflection U,V\n",
    "    U = 2*P @ P.transpose() - np.identity(m*n)\n",
    "    V = 2*Q @ Q.transpose() - np.identity(m*n)\n",
    "        \n",
    "    # Unitary acting on R[mn]\n",
    "    W = U @ V\n",
    "    \n",
    "    # Basis for {|0^logm, x> for all x in R^m}\n",
    "    basis_R0 = np.zeros((m*n,n))\n",
    "    for i in range(n):\n",
    "        basis_R0[i,i] = 1\n",
    "    proj_R0 = basis_R0 @ np.linalg.inv((basis_R0.transpose() @ basis_R0)) @ basis_R0.transpose()\n",
    "    R_0 = 2*proj_R0 - np.identity(m*n)\n",
    "    \n",
    "    # Diagonalize V\n",
    "    eigvals,eigvecs =  np.linalg.eig(V)\n",
    "    idx = eigvals.argsort()[::-1] #large --> small\n",
    "    eigvals = eigvals[idx]\n",
    "    eigvecs = eigvecs[:,idx]\n",
    "    eigvecs[:,0:n] = Q[:,:] # resort eigenvectors of eigenvalues 1 st. the submatrix is the same as Q\n",
    "    V_tilda = eigvecs\n",
    "    \n",
    "    return P,Q,U,V,W,V_tilda"
   ]
  },
  {
   "cell_type": "code",
   "execution_count": 169,
   "metadata": {
    "scrolled": true
   },
   "outputs": [
    {
     "name": "stdout",
     "output_type": "stream",
     "text": [
      "[3.74165739 8.77496439]\n",
      "[[0.39223227 0.         0.        ]\n",
      " [0.         0.39223227 0.        ]\n",
      " [0.         0.         0.39223227]\n",
      " [0.91986621 0.         0.        ]\n",
      " [0.         0.91986621 0.        ]\n",
      " [0.         0.         0.91986621]] \n",
      "\n",
      "[[ 1.  0.  0.  0.  0.  0.]\n",
      " [ 0.  1.  0.  0.  0.  0.]\n",
      " [ 0.  0.  1.  0.  0.  0.]\n",
      " [ 0.  0.  0. -1.  0.  0.]\n",
      " [ 0.  0.  0.  0. -1.  0.]\n",
      " [ 0.  0.  0.  0.  0. -1.]]\n",
      "[[-0.69230769  0.          0.          0.72160242  0.          0.        ]\n",
      " [ 0.         -0.69230769  0.          0.          0.72160242  0.        ]\n",
      " [ 0.          0.         -0.69230769  0.          0.          0.72160242]\n",
      " [ 0.72160242  0.          0.          0.69230769  0.          0.        ]\n",
      " [ 0.          0.72160242  0.          0.          0.69230769  0.        ]\n",
      " [ 0.          0.          0.72160242  0.          0.          0.69230769]]\n"
     ]
    }
   ],
   "source": [
    "A = np.array([[1,2,3],[4,5,6]])\n",
    "m,n = A.shape\n",
    "P,Q,U,V,W,R_0 = SVE_helper(A)\n",
    "#print(P,Q,W)\n",
    "#print(U @ U.transpose())\n",
    "print(Q, '\\n')\n",
    "print(R_0)\n",
    "print(V) "
   ]
  },
  {
   "cell_type": "code",
   "execution_count": 186,
   "metadata": {},
   "outputs": [
    {
     "name": "stdout",
     "output_type": "stream",
     "text": [
      "w =  [ 1.  1.  1. -1. -1. -1.]\n",
      "v =  [[ 0.39223227  0.          0.          0.         -0.91986621  0.        ]\n",
      " [ 0.          0.39223227  0.          0.          0.          0.91986621]\n",
      " [ 0.          0.          0.39223227 -0.91986621  0.          0.        ]\n",
      " [ 0.91986621  0.          0.          0.          0.39223227  0.        ]\n",
      " [ 0.          0.91986621  0.          0.          0.         -0.39223227]\n",
      " [ 0.          0.          0.91986621  0.39223227  0.          0.        ]]\n",
      "diff = [[ 0.00000000e+00  0.00000000e+00  0.00000000e+00  0.00000000e+00\n",
      "   1.73519715e-17  0.00000000e+00]\n",
      " [ 0.00000000e+00  0.00000000e+00  0.00000000e+00  0.00000000e+00\n",
      "   0.00000000e+00 -1.73519715e-17]\n",
      " [ 0.00000000e+00  0.00000000e+00  2.22044605e-16  1.73519715e-17\n",
      "   0.00000000e+00  0.00000000e+00]\n",
      " [ 0.00000000e+00  0.00000000e+00 -9.23440468e-17 -2.22044605e-16\n",
      "   0.00000000e+00  0.00000000e+00]\n",
      " [-9.23440468e-17  0.00000000e+00  0.00000000e+00  0.00000000e+00\n",
      "  -2.22044605e-16  0.00000000e+00]\n",
      " [ 0.00000000e+00  4.12812145e-17  0.00000000e+00  0.00000000e+00\n",
      "   0.00000000e+00  0.00000000e+00]]\n",
      "norm =  1.6757367710427883e-31\n",
      "R0 =  [[ 1.00000000e+00  0.00000000e+00  0.00000000e+00  0.00000000e+00\n",
      "   1.73519715e-17  0.00000000e+00]\n",
      " [ 0.00000000e+00  1.00000000e+00  0.00000000e+00  0.00000000e+00\n",
      "   0.00000000e+00 -1.73519715e-17]\n",
      " [ 0.00000000e+00  0.00000000e+00  1.00000000e+00  1.73519715e-17\n",
      "   0.00000000e+00  0.00000000e+00]\n",
      " [ 0.00000000e+00  0.00000000e+00 -9.23440468e-17 -1.00000000e+00\n",
      "   0.00000000e+00  0.00000000e+00]\n",
      " [-9.23440468e-17  0.00000000e+00  0.00000000e+00  0.00000000e+00\n",
      "  -1.00000000e+00  0.00000000e+00]\n",
      " [ 0.00000000e+00  4.12812145e-17  0.00000000e+00  0.00000000e+00\n",
      "   0.00000000e+00 -1.00000000e+00]]\n",
      "Check Unitary:  3.9766349057175406e-16\n"
     ]
    }
   ],
   "source": [
    "#V = V.astype(np.float64)\n",
    "w,v =  np.linalg.eig(V)\n",
    "#print(w)\n",
    "#print(v)\n",
    "idx = w.argsort()[::-1]\n",
    "\n",
    "w = w[idx]\n",
    "v = v[:,idx]\n",
    "v[:,0:n] = Q[:,:]\n",
    "print(\"w = \" ,w)\n",
    "print(\"v = \", v)\n",
    "diff = np.linalg.inv(v) @ V @ v - np.diag(w)\n",
    "print(\"diff =\",diff)\n",
    "print(\"norm = \",np.sum(diff**2))\n",
    "print(\"R0 = \",np.linalg.inv(v) @ V @ v)\n",
    "print(\"Check Unitary: \", np.linalg.norm(v.transpose() @ v - np.identity(m*n)))"
   ]
  },
  {
   "cell_type": "code",
   "execution_count": null,
   "metadata": {},
   "outputs": [],
   "source": [
    "def quantum_SVE(circ,x,A,precision):\n",
    "    P,Q,U,V,W,V_tilda = SVE_helper(A)\n",
    "    \n",
    "    m,n = A.shape\n",
    "    new_shape = 2**(np.ceil(np.log2(m))) ,  2**(np.ceil(np.log2(n)))\n",
    "    V_tilda_exp_dim = np.zeros(shape)\n",
    "    V_tilda_exp_dim[:V_tilda.shape[0], :V_tilda.shape[1]] = V_tilda\n",
    "    \n",
    "    \n",
    "    \n",
    "    row_norm_reg = QuantumRegister(np.ceil(np.log2(m)))\n",
    "    circ.add_registers(row_norm_reg)\n",
    "    \n",
    "    Q_gate = qiskit.extensions.UnitaryGate(V_tilda_exp_dim, label='Q gate')\n",
    "    "
   ]
  },
  {
   "cell_type": "code",
   "execution_count": 6,
   "metadata": {},
   "outputs": [],
   "source": [
    "def quantum_projection(x,A,threshold):\n",
    "    \"\"\"\n",
    "    Project the vector x onto the subspace spanned by singular vectors with corresponding singular values above the threshold\n",
    "    Args:\n",
    "        x: np.array (n)\n",
    "        A: np.array (m x n)\n",
    "        threshold: (float,float) (σ,κ)\n",
    "    Return:\n",
    "        A quantum circuit that performs the transformation\n",
    "    \"\"\"\n",
    "    m,n = A.shape[0],A.shape[1]\n",
    "    assert len(x) == n, \"Dim 0 of x should match dim 1 of A\"\n",
    "    \n",
    "    vector_reg = QuantumRegister(np.ceil(np.log2(n)))\n",
    "    #SV_reg = QuantumRegister(5)\n",
    "    ancil_reg = QuantumRegister(1)\n",
    "    #SV_creg = ClassicalRegister(5)\n",
    "    ancil_creg = ClassicalRegister(1)\n",
    "    circuit = QuantumCircuit(vector_reg,SV_reg,ancil_reg,SV_creg,ancil_creg)\n",
    "    \n",
    "    # 1. Initialize data state\n",
    "    init_circ = amplitude_encoding(x)\n",
    "    circuit.append(init_circ, vector_reg)\n",
    "    \n",
    "    print(circuit.draw())\n",
    "    "
   ]
  },
  {
   "cell_type": "code",
   "execution_count": 9,
   "metadata": {},
   "outputs": [
    {
     "name": "stdout",
     "output_type": "stream",
     "text": [
      "       ┌─────────────────────────────────────────────┐\n",
      " q9_0: ┤0                                            ├\n",
      "       │  initialize(0.18257,0.36515,0.54772,0.7303) │\n",
      " q9_1: ┤1                                            ├\n",
      "       └─────────────────────────────────────────────┘\n",
      "q10_0: ───────────────────────────────────────────────\n",
      "                                                      \n",
      "q10_1: ───────────────────────────────────────────────\n",
      "                                                      \n",
      "q10_2: ───────────────────────────────────────────────\n",
      "                                                      \n",
      "q10_3: ───────────────────────────────────────────────\n",
      "                                                      \n",
      "q10_4: ───────────────────────────────────────────────\n",
      "                                                      \n",
      "q11_0: ───────────────────────────────────────────────\n",
      "                                                      \n",
      " c6: 5/═══════════════════════════════════════════════\n",
      "                                                      \n",
      " c7: 1/═══════════════════════════════════════════════\n",
      "                                                      \n"
     ]
    }
   ],
   "source": [
    "x = np.array([1,2,3,4])\n",
    "A = np.array([[3,4,5,6],[5,6,7,8]])\n",
    "threshold = (0.5,0.3)\n",
    "quantum_projection(x,A,threshold)"
   ]
  }
 ],
 "metadata": {
  "kernelspec": {
   "display_name": "QML",
   "language": "python",
   "name": "qml"
  },
  "language_info": {
   "codemirror_mode": {
    "name": "ipython",
    "version": 3
   },
   "file_extension": ".py",
   "mimetype": "text/x-python",
   "name": "python",
   "nbconvert_exporter": "python",
   "pygments_lexer": "ipython3",
   "version": "3.7.9"
  }
 },
 "nbformat": 4,
 "nbformat_minor": 4
}
