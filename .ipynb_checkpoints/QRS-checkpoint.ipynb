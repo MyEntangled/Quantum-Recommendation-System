{
 "cells": [
  {
   "cell_type": "code",
   "execution_count": 1,
   "metadata": {},
   "outputs": [],
   "source": [
    "import numpy as np\n",
    "import qiskit\n",
    "from qiskit import ClassicalRegister,QuantumRegister,QuantumCircuit,execute"
   ]
  },
  {
   "cell_type": "code",
   "execution_count": 2,
   "metadata": {},
   "outputs": [],
   "source": [
    "class newNode: \n",
    "    def __init__(self,data): \n",
    "        self.data = data\n",
    "        self.left = self.right = None\n",
    "  "
   ]
  },
  {
   "cell_type": "code",
   "execution_count": 3,
   "metadata": {},
   "outputs": [],
   "source": [
    "def create_binary_tree(n,i,root):\n",
    "    limit = n - 1        \n",
    "    if i < limit:\n",
    "        temp = newNode(0)\n",
    "        root = temp        \n",
    "        root.left = create_binary_tree(n,2*i+1,root.left)\n",
    "        root.right = create_binary_tree(n,2*i+2,root.right)\n",
    "    return root "
   ]
  },
  {
   "cell_type": "code",
   "execution_count": 4,
   "metadata": {},
   "outputs": [],
   "source": [
    "def check_value(n):\n",
    "    if n < 0 :\n",
    "        return -np.power(n,2)\n",
    "    else: \n",
    "        return np.power(n,2)"
   ]
  },
  {
   "cell_type": "code",
   "execution_count": 5,
   "metadata": {},
   "outputs": [],
   "source": [
    "def insert_leaves(arr,root,i):\n",
    "    global index\n",
    "    index = i\n",
    "    a = 0\n",
    "    if (not root):\n",
    "        return\n",
    "    if (not root.left and \n",
    "        not root.right):\n",
    "        root.left = newNode(check_value(arr[index]))\n",
    "        if (index + 1) < len(arr):\n",
    "            root.right = newNode(check_value(arr[index + 1]))\n",
    "        if (index + 2) < len(arr):\n",
    "            index = index + 2\n",
    "        else: \n",
    "            index = index + 1\n",
    "        return a \n",
    "    \n",
    "    if root.left :\n",
    "        a = insert_leaves(arr,root.left,index)\n",
    "    if root.right :\n",
    "        a = insert_leaves(arr,root.right,index)       "
   ]
  },
  {
   "cell_type": "code",
   "execution_count": 6,
   "metadata": {},
   "outputs": [],
   "source": [
    "def fill_tree(root):\n",
    "    a = 0\n",
    "    if (not root):\n",
    "        return\n",
    "    if (root.left):\n",
    "        if (not root.left.left):\n",
    "            root.data = root.left.data + root.right.data\n",
    "        else:\n",
    "            a = fill_tree(root.left)\n",
    "    if (root.right) :\n",
    "        if (root.right.left):\n",
    "            root.right.data = root.right.left.data + root.right.right.data\n",
    "            a = fill_tree(root.right)\n",
    "        else:   \n",
    "            return a\n",
    "    root.data = root.left.data + root.right.data"
   ]
  },
  {
   "cell_type": "code",
   "execution_count": 7,
   "metadata": {},
   "outputs": [
    {
     "ename": "SyntaxError",
     "evalue": "invalid syntax (<ipython-input-7-937390d9354a>, line 7)",
     "output_type": "error",
     "traceback": [
      "\u001b[1;36m  File \u001b[1;32m\"<ipython-input-7-937390d9354a>\"\u001b[1;36m, line \u001b[1;32m7\u001b[0m\n\u001b[1;33m    print(.data)\u001b[0m\n\u001b[1;37m          ^\u001b[0m\n\u001b[1;31mSyntaxError\u001b[0m\u001b[1;31m:\u001b[0m invalid syntax\n"
     ]
    }
   ],
   "source": [
    "arr = [1,-2,3,4,5,6,7,8,9,10]\n",
    "n = len(arr)\n",
    "root = newNode(0)\n",
    "root = create_binary_tree(n,0,root)\n",
    "insert_leaves(arr,root,0)\n",
    "fill_tree(root)\n",
    "print(.data)"
   ]
  },
  {
   "cell_type": "code",
   "execution_count": null,
   "metadata": {},
   "outputs": [],
   "source": []
  }
 ],
 "metadata": {
  "kernelspec": {
   "display_name": "Python 3",
   "language": "python",
   "name": "python3"
  },
  "language_info": {
   "codemirror_mode": {
    "name": "ipython",
    "version": 3
   },
   "file_extension": ".py",
   "mimetype": "text/x-python",
   "name": "python",
   "nbconvert_exporter": "python",
   "pygments_lexer": "ipython3",
   "version": "3.7.9"
  }
 },
 "nbformat": 4,
 "nbformat_minor": 4
}
